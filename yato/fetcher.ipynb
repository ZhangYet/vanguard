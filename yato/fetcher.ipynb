{
 "cells": [
  {
   "cell_type": "code",
   "execution_count": 3,
   "metadata": {
    "collapsed": true
   },
   "outputs": [],
   "source": [
    "import requests\n",
    "from bs4 import BeautifulSoup\n",
    "\n",
    "css = '''\n",
    "<style>\n",
    "        i {\n",
    "                background-repeat: no-repeat;\n",
    "                background-size: auto 30px;\n",
    "                display: inline-block;\n",
    "                height: 30px;\n",
    "                position: relative;\n",
    "                top: 6px;\n",
    "                width: 19px;\n",
    "                z-index: 1;\n",
    "        }\n",
    "</style>\n",
    "</div>\n",
    "'''\n",
    "\n",
    "url = 'http://sz.ziroom.com/x/789608794.html'\n",
    "\n",
    "page = requests.get(url)\n",
    "\n",
    "content = page.text\n",
    "\n",
    "parser = BeautifulSoup(content, 'html.parser')\n",
    "\n",
    "# 从页面中抓取对应价钱的 div：找到 class == 'Z_price' 的 div\n",
    "price_info: str = parser.find('div', class_='Z_price').__str__()\n",
    "\n",
    "# 把 // 替换成 http://\n",
    "price_info = price_info.replace('//static8.ziroom.com', 'http://static8.ziroom.com')\n",
    "# 插入 css\n",
    "price_info = price_info.replace('</div>', css)\n",
    "\n",
    "# 保存为 html\n",
    "with open('./price.html', 'w') as output:\n",
    "    output.write(price_info)"
   ]
  },
  {
   "cell_type": "code",
   "execution_count": null,
   "metadata": {},
   "outputs": [],
   "source": []
  }
 ],
 "metadata": {
  "kernelspec": {
   "display_name": "Python 2",
   "language": "python",
   "name": "python2"
  },
  "language_info": {
   "codemirror_mode": {
    "name": "ipython",
    "version": 2
   },
   "file_extension": ".py",
   "mimetype": "text/x-python",
   "name": "python",
   "nbconvert_exporter": "python",
   "pygments_lexer": "ipython2",
   "version": "2.7.6"
  }
 },
 "nbformat": 4,
 "nbformat_minor": 0
}
